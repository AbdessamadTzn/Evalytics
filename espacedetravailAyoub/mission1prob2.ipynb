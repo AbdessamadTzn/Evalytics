{
 "cells": [
  {
   "cell_type": "code",
   "execution_count": 22,
   "id": "d40d6374",
   "metadata": {},
   "outputs": [],
   "source": [
    "# import necessary libraries\n",
    "\n",
    "import pandas as pd\n",
    "import numpy as np\n",
    "import matplotlib.pyplot as plt\n",
    "import json\n",
    "\n"
   ]
  },
  {
   "cell_type": "code",
   "execution_count": 14,
   "id": "ee8fa2ce",
   "metadata": {},
   "outputs": [],
   "source": [
    "#Charger les données json\n",
    "\n",
    "# Chemin vers le fichier JSON\n",
    "file_path = \"studyCorrelation.json\"\n",
    "\n",
    "# Lecture du fichier JSON\n",
    "with open(file_path, \"r\", encoding=\"utf-8\") as file:\n",
    "    data = json.load(file)\n"
   ]
  },
  {
   "cell_type": "code",
   "execution_count": 15,
   "id": "a55091a8",
   "metadata": {},
   "outputs": [
    {
     "name": "stdout",
     "output_type": "stream",
     "text": [
      "\n",
      "=== Étudiants : studyCorrelation ===\n",
      "   id  hours  score\n",
      "0   1   6.96     71\n",
      "1   2   3.90     65\n",
      "2   3   0.72     81\n",
      "3   4   0.36     41\n",
      "4   5   2.11     42\n"
     ]
    }
   ],
   "source": [
    "# 1. Partie 1 : studyCorrelation (liste d'étudiants)\n",
    "\n",
    "df_study = pd.DataFrame(data[\"studyCorrelation\"])\n",
    "print(\"\\n=== Étudiants : studyCorrelation ===\")\n",
    "print(df_study.head())"
   ]
  },
  {
   "cell_type": "code",
   "execution_count": 16,
   "id": "84b0794b",
   "metadata": {},
   "outputs": [
    {
     "name": "stdout",
     "output_type": "stream",
     "text": [
      "\n",
      "=== Format de cours : courseFormat ===\n",
      "      presentiel  distanciel\n",
      "pass        5915        5210\n",
      "fail        4085        4790\n"
     ]
    }
   ],
   "source": [
    "# 2. Partie 2 : courseFormat (succès/échec par format de cours)\n",
    "df_course = pd.DataFrame(data[\"courseFormat\"])\n",
    "print(\"\\n=== Format de cours : courseFormat ===\")\n",
    "print(df_course)"
   ]
  },
  {
   "cell_type": "code",
   "execution_count": 17,
   "id": "6ab53825",
   "metadata": {},
   "outputs": [
    {
     "name": "stdout",
     "output_type": "stream",
     "text": [
      "\n",
      "=== Scores mi-parcours : midtermScores ===\n",
      "   class_A  class_B\n",
      "0     12.0     11.9\n",
      "1     10.8     13.2\n",
      "2     11.7      8.6\n",
      "3     12.7     10.4\n",
      "4     13.8     14.6\n"
     ]
    }
   ],
   "source": [
    "# 3. Partie 3 : midtermScores (scores mi-parcours de deux classes)\n",
    "df_midterm = pd.DataFrame(dict(\n",
    "    class_A=data[\"midtermScores\"][\"class_A\"],\n",
    "    class_B=data[\"midtermScores\"][\"class_B\"]\n",
    "))\n",
    "print(\"\\n=== Scores mi-parcours : midtermScores ===\")\n",
    "print(df_midterm.head())"
   ]
  },
  {
   "cell_type": "code",
   "execution_count": 18,
   "id": "26cad583",
   "metadata": {},
   "outputs": [
    {
     "name": "stdout",
     "output_type": "stream",
     "text": [
      "\n",
      "=== Gains par approche pédagogique : approachGains ===\n",
      "   Approach1  Approach2  Approach3  Approach4\n",
      "0        3.6        8.8        4.3        6.9\n",
      "1        5.0        6.4        4.3        4.6\n",
      "2        4.5        7.6        4.1        5.5\n",
      "3        6.0        7.0        5.4        6.1\n",
      "4        4.5        7.3        4.9        7.1\n"
     ]
    }
   ],
   "source": [
    "# 4. Partie 4 : approachGains (gains de points selon méthode pédagogique)\n",
    "df_approach = pd.DataFrame(data[\"approachGains\"])\n",
    "print(\"\\n=== Gains par approche pédagogique : approachGains ===\")\n",
    "print(df_approach.head())"
   ]
  },
  {
   "cell_type": "code",
   "execution_count": 19,
   "id": "11855c38",
   "metadata": {},
   "outputs": [
    {
     "name": "stdout",
     "output_type": "stream",
     "text": [
      "\n",
      "=== Temps d'exécution : completionTimes ===\n",
      "   None  Simple  Advanced\n",
      "0  15.6     8.9      12.3\n",
      "1  18.3    12.1       6.8\n",
      "2  15.2    12.5       6.4\n",
      "3  11.9    12.8       8.6\n",
      "4  16.1    11.5       9.4\n"
     ]
    }
   ],
   "source": [
    "# 5. Partie 5 : completionTimes (temps pour finir un exercice selon le support)\n",
    "df_times = pd.DataFrame(data[\"completionTimes\"])\n",
    "print(\"\\n=== Temps d'exécution : completionTimes ===\")\n",
    "print(df_times.head())"
   ]
  },
  {
   "cell_type": "markdown",
   "id": "0652c2e9",
   "metadata": {},
   "source": [
    "Réponse à la deuxième problématique :\n",
    "\n",
    "Format de cours et certification\n",
    "\n",
    "Question : Le format de cours (présentiel vs distanciel) influence-t-il l’obtention de la certification finale ?\n",
    "\n",
    "Pourquoi c’est important ? L’entreprise envisage de basculer 100 % des formations en ligne. Avant de prendre cettedécision, il faut s’assurer que cela ne compromet pas la réussite des apprenants"
   ]
  },
  {
   "cell_type": "code",
   "execution_count": 20,
   "id": "bff6c103",
   "metadata": {},
   "outputs": [
    {
     "name": "stdout",
     "output_type": "stream",
     "text": [
      "Taux de réussite en présentiel : 59.15%\n",
      "Taux de réussite en distanciel : 52.10%\n"
     ]
    }
   ],
   "source": [
    "# Calculer les taux de réussite\n",
    "\n",
    "\n",
    "\n",
    "# Calcul des totaux\n",
    "presentiel_total = df_course['presentiel'].sum()\n",
    "distanciel_total = df_course['distanciel'].sum()\n",
    "\n",
    "# Calcul des taux de réussite\n",
    "presentiel_success_rate = df_course.loc['pass', 'presentiel'] / presentiel_total * 100\n",
    "distanciel_success_rate = df_course.loc['pass', 'distanciel'] / distanciel_total * 100\n",
    "\n",
    "# Affichage des taux\n",
    "print(f\"Taux de réussite en présentiel : {presentiel_success_rate:.2f}%\")\n",
    "print(f\"Taux de réussite en distanciel : {distanciel_success_rate:.2f}%\")\n"
   ]
  },
  {
   "cell_type": "code",
   "execution_count": 21,
   "id": "7f43b9bf",
   "metadata": {},
   "outputs": [
    {
     "data": {
      "image/png": "[encoded data removed]",
      "text/plain": [
       "<Figure size 600x500 with 1 Axes>"
      ]
     },
     "metadata": {},
     "output_type": "display_data"
    }
   ],
   "source": [
    "# Visualisation du taux de réussite\n",
    "\n",
    "formats = ['Présentiel', 'Distanciel']\n",
    "success_rates = [presentiel_success_rate, distanciel_success_rate]\n",
    "\n",
    "plt.figure(figsize=(6,5))\n",
    "plt.bar(formats, success_rates, color=['green', 'orange'])\n",
    "plt.title(\"Taux de réussite (%) par format de cours\")\n",
    "plt.ylabel(\"Taux de réussite (%)\")\n",
    "plt.ylim(0, 100)\n",
    "plt.grid(axis='y')\n",
    "plt.tight_layout()\n",
    "plt.show()\n"
   ]
  },
  {
   "cell_type": "code",
   "execution_count": 23,
   "id": "4ca7e56e",
   "metadata": {},
   "outputs": [
    {
     "data": {
      "image/png": "[encoded data removed]",
      "text/plain": [
       "<Figure size 800x600 with 1 Axes>"
      ]
     },
     "metadata": {},
     "output_type": "display_data"
    }
   ],
   "source": [
    "# Visualisation des comptes pass/fail\n",
    "\n",
    "labels = ['Présentiel', 'Distanciel']\n",
    "pass_values = df_course.loc['pass']\n",
    "fail_values = df_course.loc['fail']\n",
    "\n",
    "x = np.arange(len(labels))\n",
    "\n",
    "plt.figure(figsize=(8,6))\n",
    "plt.bar(x, pass_values, label='Réussite', color='green')\n",
    "plt.bar(x, fail_values, bottom=pass_values, label='Échec', color='red')\n",
    "\n",
    "plt.xticks(x, labels)\n",
    "plt.ylabel(\"Nombre d'étudiants\")\n",
    "plt.title(\"Répartition Réussite / Échec par format de cours\")\n",
    "plt.legend()\n",
    "plt.tight_layout()\n",
    "plt.show()\n"
   ]
  },
  {
   "cell_type": "markdown",
   "id": "04bdef5f",
   "metadata": {},
   "source": [
    "Les résultats montrent un taux de réussite de 59,15% pour le présentiel contre 52,10% pour le distanciel.\n",
    "Bien que la différence semble modérée (≈7 points), elle concerne plusieurs centaines d'étudiants, ce qui est significatif à l’échelle de l’entreprise.\n",
    "\n",
    "La visualisation en barres empilées met en évidence une plus grande part d’échec en distanciel.\n",
    "Cela suggère que bascule complète vers le distanciel pourrait accroître les échecs, sauf si des dispositifs de soutien sont mis en place (mentorat, tutoriels, exercices interactifs...)."
   ]
  }
 ],
 "metadata": {
  "kernelspec": {
   "display_name": "venv",
   "language": "python",
   "name": "python3"
  },
  "language_info": {
   "codemirror_mode": {
    "name": "ipython",
    "version": 3
   },
   "file_extension": ".py",
   "mimetype": "text/x-python",
   "name": "python",
   "nbconvert_exporter": "python",
   "pygments_lexer": "ipython3",
   "version": "3.12.8"
  }
 },
 "nbformat": 4,
 "nbformat_minor": 5
}
