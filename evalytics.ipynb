{
 "cells": [
  {
   "cell_type": "code",
   "execution_count": 11,
   "id": "7f20c62a",
   "metadata": {},
   "outputs": [],
   "source": [
    "import pandas as pd\n",
    "import numpy as np\n",
    "from scipy.stats import f_oneway  # ANOVA\n",
    "import matplotlib.pyplot as plt\n",
    "import seaborn as sns\n"
   ]
  },
  {
   "cell_type": "code",
   "execution_count": null,
   "id": "86874752",
   "metadata": {},
   "outputs": [],
   "source": [
    "link_data ='https://api.educentre.fr/documents/document-formatifs/5f58f164-26dc-4293-af10-678865fe41d6'"
   ]
  },
  {
   "cell_type": "code",
   "execution_count": 15,
   "id": "c147d5d0",
   "metadata": {},
   "outputs": [
    {
     "data": {
      "text/html": [
       "<div>\n",
       "<style scoped>\n",
       "    .dataframe tbody tr th:only-of-type {\n",
       "        vertical-align: middle;\n",
       "    }\n",
       "\n",
       "    .dataframe tbody tr th {\n",
       "        vertical-align: top;\n",
       "    }\n",
       "\n",
       "    .dataframe thead th {\n",
       "        text-align: right;\n",
       "    }\n",
       "</style>\n",
       "<table border=\"1\" class=\"dataframe\">\n",
       "  <thead>\n",
       "    <tr style=\"text-align: right;\">\n",
       "      <th></th>\n",
       "      <th>studyCorrelation</th>\n",
       "      <th>courseFormat</th>\n",
       "      <th>midtermScores</th>\n",
       "      <th>approachGains</th>\n",
       "      <th>completionTimes</th>\n",
       "    </tr>\n",
       "  </thead>\n",
       "  <tbody>\n",
       "    <tr>\n",
       "      <th>0</th>\n",
       "      <td>[{'id': 1, 'hours': 6.96, 'score': 71}, {'id':...</td>\n",
       "      <td>{'presentiel': {'pass': 5915, 'fail': 4085}, '...</td>\n",
       "      <td>{'class_A': [12.0, 10.8, 11.7, 12.7, 13.8, 12....</td>\n",
       "      <td>{'Approach1': [3.6, 5.0, 4.5, 6.0, 4.5, 4.3, 4...</td>\n",
       "      <td>{'None': [15.6, 18.3, 15.2, 11.9, 16.1, 14.8, ...</td>\n",
       "    </tr>\n",
       "  </tbody>\n",
       "</table>\n",
       "</div>"
      ],
      "text/plain": [
       "                                    studyCorrelation  \\\n",
       "0  [{'id': 1, 'hours': 6.96, 'score': 71}, {'id':...   \n",
       "\n",
       "                                        courseFormat  \\\n",
       "0  {'presentiel': {'pass': 5915, 'fail': 4085}, '...   \n",
       "\n",
       "                                       midtermScores  \\\n",
       "0  {'class_A': [12.0, 10.8, 11.7, 12.7, 13.8, 12....   \n",
       "\n",
       "                                       approachGains  \\\n",
       "0  {'Approach1': [3.6, 5.0, 4.5, 6.0, 4.5, 4.3, 4...   \n",
       "\n",
       "                                     completionTimes  \n",
       "0  {'None': [15.6, 18.3, 15.2, 11.9, 16.1, 14.8, ...  "
      ]
     },
     "execution_count": 15,
     "metadata": {},
     "output_type": "execute_result"
    }
   ],
   "source": [
    "import json\n",
    "\n",
    "with open('data.json', 'r') as f:\n",
    "\tdata = json.load(f)\n",
    "\n",
    "# If the top-level object is a dict, convert to list of records\n",
    "if isinstance(data, dict):\n",
    "\t# Try to find the key that contains the records\n",
    "\t# If unsure, use list(data.values())[0] or adjust as needed\n",
    "\trecords = list(data.values())[0] if len(data) == 1 else [data]\n",
    "else:\n",
    "\trecords = data\n",
    "\n",
    "data_df = pd.DataFrame(records)\n",
    "\n",
    "data_df.head()"
   ]
  },
  {
   "cell_type": "code",
   "execution_count": 16,
   "id": "fd41f7bf",
   "metadata": {},
   "outputs": [
    {
     "name": "stdout",
     "output_type": "stream",
     "text": [
      "Aperçu du DataFrame :\n"
     ]
    },
    {
     "data": {
      "text/html": [
       "<div>\n",
       "<style scoped>\n",
       "    .dataframe tbody tr th:only-of-type {\n",
       "        vertical-align: middle;\n",
       "    }\n",
       "\n",
       "    .dataframe tbody tr th {\n",
       "        vertical-align: top;\n",
       "    }\n",
       "\n",
       "    .dataframe thead th {\n",
       "        text-align: right;\n",
       "    }\n",
       "</style>\n",
       "<table border=\"1\" class=\"dataframe\">\n",
       "  <thead>\n",
       "    <tr style=\"text-align: right;\">\n",
       "      <th></th>\n",
       "      <th>studyCorrelation</th>\n",
       "      <th>courseFormat</th>\n",
       "      <th>midtermScores</th>\n",
       "      <th>approachGains</th>\n",
       "      <th>completionTimes</th>\n",
       "    </tr>\n",
       "  </thead>\n",
       "  <tbody>\n",
       "    <tr>\n",
       "      <th>0</th>\n",
       "      <td>[{'id': 1, 'hours': 6.96, 'score': 71}, {'id':...</td>\n",
       "      <td>{'presentiel': {'pass': 5915, 'fail': 4085}, '...</td>\n",
       "      <td>{'class_A': [12.0, 10.8, 11.7, 12.7, 13.8, 12....</td>\n",
       "      <td>{'Approach1': [3.6, 5.0, 4.5, 6.0, 4.5, 4.3, 4...</td>\n",
       "      <td>{'None': [15.6, 18.3, 15.2, 11.9, 16.1, 14.8, ...</td>\n",
       "    </tr>\n",
       "  </tbody>\n",
       "</table>\n",
       "</div>"
      ],
      "text/plain": [
       "                                    studyCorrelation  \\\n",
       "0  [{'id': 1, 'hours': 6.96, 'score': 71}, {'id':...   \n",
       "\n",
       "                                        courseFormat  \\\n",
       "0  {'presentiel': {'pass': 5915, 'fail': 4085}, '...   \n",
       "\n",
       "                                       midtermScores  \\\n",
       "0  {'class_A': [12.0, 10.8, 11.7, 12.7, 13.8, 12....   \n",
       "\n",
       "                                       approachGains  \\\n",
       "0  {'Approach1': [3.6, 5.0, 4.5, 6.0, 4.5, 4.3, 4...   \n",
       "\n",
       "                                     completionTimes  \n",
       "0  {'None': [15.6, 18.3, 15.2, 11.9, 16.1, 14.8, ...  "
      ]
     },
     "metadata": {},
     "output_type": "display_data"
    },
    {
     "name": "stdout",
     "output_type": "stream",
     "text": [
      "\n",
      "Infos générales :\n",
      "<class 'pandas.core.frame.DataFrame'>\n",
      "RangeIndex: 1 entries, 0 to 0\n",
      "Data columns (total 5 columns):\n",
      " #   Column            Non-Null Count  Dtype \n",
      "---  ------            --------------  ----- \n",
      " 0   studyCorrelation  1 non-null      object\n",
      " 1   courseFormat      1 non-null      object\n",
      " 2   midtermScores     1 non-null      object\n",
      " 3   approachGains     1 non-null      object\n",
      " 4   completionTimes   1 non-null      object\n",
      "dtypes: object(5)\n",
      "memory usage: 172.0+ bytes\n",
      "\n",
      "Valeurs manquantes par colonne :\n",
      "studyCorrelation    0\n",
      "courseFormat        0\n",
      "midtermScores       0\n",
      "approachGains       0\n",
      "completionTimes     0\n",
      "dtype: int64\n",
      "\n",
      "Types de données :\n",
      "studyCorrelation    object\n",
      "courseFormat        object\n",
      "midtermScores       object\n",
      "approachGains       object\n",
      "completionTimes     object\n",
      "dtype: object\n",
      "\n",
      "Longueur de la liste 'studyCorrelation': 10000\n",
      "\n",
      "Clés du dictionnaire 'courseFormat': ['presentiel', 'distanciel']\n",
      "\n",
      "Clés du dictionnaire 'midtermScores': ['class_A', 'class_B']\n",
      "\n",
      "Clés du dictionnaire 'approachGains': ['Approach1', 'Approach2', 'Approach3', 'Approach4']\n",
      "\n",
      "Clés du dictionnaire 'completionTimes': ['None', 'Simple', 'Advanced']\n"
     ]
    }
   ],
   "source": [
    "# Analyse rapide du jeu de données\n",
    "\n",
    "print(\"Aperçu du DataFrame :\")\n",
    "display(data_df.head())\n",
    "\n",
    "print(\"\\nInfos générales :\")\n",
    "data_df.info()\n",
    "\n",
    "print(\"\\nValeurs manquantes par colonne :\")\n",
    "print(data_df.isnull().sum())\n",
    "\n",
    "print(\"\\nTypes de données :\")\n",
    "print(data_df.dtypes)\n",
    "\n",
    "# Vérification des données manquantes dans les sous-dictionnaires\n",
    "for col in data_df.columns:\n",
    "    if isinstance(data_df[col][0], dict):\n",
    "        print(f\"\\nClés du dictionnaire '{col}': {list(data_df[col][0].keys())}\")\n",
    "    elif isinstance(data_df[col][0], list):\n",
    "        print(f\"\\nLongueur de la liste '{col}': {len(data_df[col][0])}\")"
   ]
  },
  {
   "cell_type": "code",
   "execution_count": 17,
   "id": "0798d815",
   "metadata": {},
   "outputs": [
    {
     "name": "stderr",
     "output_type": "stream",
     "text": [
      "/var/folders/n8/gqqjlrrs4q5d76565spc6ps40000gn/T/ipykernel_29611/1928008650.py:10: MatplotlibDeprecationWarning: The 'labels' parameter of boxplot() has been renamed 'tick_labels' since Matplotlib 3.9; support for the old name will be dropped in 3.11.\n",
      "  plt.boxplot(times, labels=labels)\n"
     ]
    },
    {
     "data": {
      "image/png": "[encoded data removed]",
      "text/plain": [
       "<Figure size 800x500 with 1 Axes>"
      ]
     },
     "metadata": {},
     "output_type": "display_data"
    },
    {
     "name": "stdout",
     "output_type": "stream",
     "text": [
      "ANOVA - p-value: 0.0\n"
     ]
    }
   ],
   "source": [
    "# Extraire les temps d'achèvement selon le niveau de support\n",
    "completion_times = data['completionTimes']\n",
    "\n",
    "# Préparer les données pour le boxplot\n",
    "labels = list(completion_times.keys())\n",
    "times = [completion_times[label] for label in labels]\n",
    "\n",
    "# Tracer le boxplot\n",
    "plt.figure(figsize=(8, 5))\n",
    "plt.boxplot(times, labels=labels)\n",
    "plt.title(\"Temps d’achèvement selon le niveau de support fourni\")\n",
    "plt.xlabel(\"Niveau de support\")\n",
    "plt.ylabel(\"Temps d’achèvement (minutes)\")\n",
    "plt.show()\n",
    "\n",
    "\n",
    "# Test ANOVA\n",
    "f_stat, p_val = f_oneway(completion_times[\"None\"], completion_times[\"Simple\"], completion_times[\"Advanced\"])\n",
    "print(\"ANOVA - p-value:\", p_val)"
   ]
  },
  {
   "cell_type": "markdown",
   "id": "ed374173",
   "metadata": {},
   "source": [
    "# 📊 Impact du niveau de support sur les temps d’achèvement\n",
    "\n",
    "## ✅ Résumé de l’analyse\n",
    "\n",
    "### 1. Influence du support sur les performances\n",
    "\n",
    "- Le **temps d’achèvement** des exercices diminue avec le **niveau de support fourni** :\n",
    "  - **Aucun support** : ~15 minutes, forte variabilité, nombreux retards.\n",
    "  - **Support simple** : ~12 minutes, variabilité modérée.\n",
    "  - **Support avancé** : ~9-10 minutes, performance homogène et efficace.\n",
    "\n",
    "📉 **Plus le support est structuré, plus l’apprenant est autonome et rapide.**\n",
    "\n",
    "---\n",
    "\n",
    "### 2. Pourquoi c’est important ?\n",
    "\n",
    "#### 🎓 Pédagogie\n",
    "- Réduction du **temps de complétion** = meilleure compréhension et motivation.\n",
    "- Moins de **frustration** et plus d’**autonomie**.\n",
    "\n",
    "#### 💰 Économie\n",
    "- Les tutoriels avancés sont **coûteux à produire**.\n",
    "- Il faut mesurer s’ils sont **rentables** : \n",
    "  - Temps gagné × nombre d’utilisateurs × coût horaire.\n",
    "  - Moins de besoin en support humain.\n",
    "\n",
    "---\n",
    "\n",
    "### 3. Exemple de rentabilité\n",
    "\n",
    "- Coût de production d’un tutoriel : **2000 €**\n",
    "- Temps économisé : **5 minutes par utilisateur**\n",
    "- Pour **1000 utilisateurs** : \n",
    "  - Temps total gagné = 5000 minutes (~83 heures)\n",
    "  - Économie estimée = **2083 €** (si 25 €/h)\n",
    "\n",
    "✅ **Tutoriel rentable dès les 1000 premiers utilisateurs.**\n",
    "\n",
    "---\n",
    "\n",
    "### 📌 Conclusion\n",
    "\n",
    "Le niveau de support a un **impact mesurable** sur la performance.  \n",
    "➡️ Investir dans du support avancé est **justifiable** si l’on mesure son effet sur :\n",
    "- la **réduction du temps d’apprentissage**,\n",
    "- la **diminution du besoin en assistance humaine**,\n",
    "- et la **satisfaction des apprenants**.\n",
    "\n"
   ]
  }
 ],
 "metadata": {
  "kernelspec": {
   "display_name": "env",
   "language": "python",
   "name": "python3"
  },
  "language_info": {
   "codemirror_mode": {
    "name": "ipython",
    "version": 3
   },
   "file_extension": ".py",
   "mimetype": "text/x-python",
   "name": "python",
   "nbconvert_exporter": "python",
   "pygments_lexer": "ipython3",
   "version": "3.11.9"
  }
 },
 "nbformat": 4,
 "nbformat_minor": 5
}
